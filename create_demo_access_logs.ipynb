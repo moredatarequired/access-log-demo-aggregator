{
  "cells": [
    {
      "cell_type": "markdown",
      "metadata": {
        "id": "HaZ_ErPxsbGm"
      },
      "source": [
        "# Demo HTTP access logs\n",
        "\n",
        "For some rudimentary testing, let's create some mid-fidelity Apache-format HTTP access logs. These will have a bunch of rows that look like\n",
        "```\n",
        "123.66.150.17 - - [12/Aug/2010:02:45:59 +0000] \"POST /wordpress3/wp-admin/admin-ajax.php HTTP/1.1\" 200 2 \"http://www.example.com/wordpress3/wp-admin/post-new.php\" \"Mozilla/5.0 (Macintosh; U; Intel Mac OS X 10_6_4; en-US) AppleWebKit/534.3 (KHTML, like Gecko) Chrome/6.0.472.25 Safari/534.3\"\n",
        "```\n",
        "\n",
        "We're going to start from some existing public access logs, look for any patterns we should mimic (or distributions we should sample from), and then create our data using `mimesis` and our empirical findings."
      ]
    },
    {
      "cell_type": "markdown",
      "metadata": {
        "id": "8BsByaHovAui"
      },
      "source": [
        "## Example (real) access log\n",
        "\n",
        "I have no idea what \"Almhuette Raith\" is, but they seem to have a large log publically available at http://www.almhuette-raith.at/apache-log/access.log, we'll arbitrarily start with that.\n",
        "\n",
        "I've previously downloaded this (1.7GB) file and re-uploaded it to host it in S3 as a much smaller (78MB) gzip file. We'll download and unzip it."
      ]
    },
    {
      "cell_type": "code",
      "execution_count": 11,
      "metadata": {
        "colab": {
          "base_uri": "https://localhost:8080/"
        },
        "id": "A3llEhpWsWR9",
        "outputId": "a3feeae7-71ec-406f-c855-66c7fc66173f"
      },
      "outputs": [
        {
          "name": "stdout",
          "output_type": "stream",
          "text": [
            "--2022-09-27 12:56:36--  https://hpw-public-demos.s3.us-west-2.amazonaws.com/almhuette-raith_access.log.gz\n",
            "Resolving hpw-public-demos.s3.us-west-2.amazonaws.com (hpw-public-demos.s3.us-west-2.amazonaws.com)... 52.218.178.194\n",
            "Connecting to hpw-public-demos.s3.us-west-2.amazonaws.com (hpw-public-demos.s3.us-west-2.amazonaws.com)|52.218.178.194|:443... connected.\n",
            "HTTP request sent, awaiting response... 200 OK\n",
            "Length: 81675207 (78M) [application/x-gzip]\n",
            "Saving to: ‘almhuette-raith_access.log.gz’\n",
            "\n",
            "almhuette-raith_acc 100%[===================>]  77.89M   715KB/s    in 67s     \n",
            "\n",
            "2022-09-27 12:57:44 (1.15 MB/s) - ‘almhuette-raith_access.log.gz’ saved [81675207/81675207]\n",
            "\n"
          ]
        }
      ],
      "source": [
        "!wget https://hpw-public-demos.s3.us-west-2.amazonaws.com/almhuette-raith_access.log.gz\n",
        "!gunzip almhuette-raith_access.log.gz"
      ]
    },
    {
      "cell_type": "markdown",
      "metadata": {
        "id": "SvDk3-Rl4lBm"
      },
      "source": [
        "1.7GB is small enough that we can load it into memory without doing anything special, so let's do that."
      ]
    },
    {
      "cell_type": "code",
      "execution_count": 12,
      "metadata": {
        "colab": {
          "base_uri": "https://localhost:8080/"
        },
        "id": "8OK6Ynyk4O1i",
        "outputId": "1293694e-2dbd-430b-cecc-c071af508460"
      },
      "outputs": [
        {
          "data": {
            "text/plain": [
              "9595040"
            ]
          },
          "execution_count": 12,
          "metadata": {},
          "output_type": "execute_result"
        }
      ],
      "source": [
        "with open(\"almhuette-raith_access.log\") as infile:\n",
        "  access_records = infile.readlines()\n",
        "\n",
        "len(access_records)"
      ]
    },
    {
      "cell_type": "markdown",
      "metadata": {
        "id": "poHg7t1D9qLV"
      },
      "source": [
        "There's at least one package on PyPI that can parse Apache logs (`apachelogs`), but actually using it is a little of a pain and I'm not sure how robust it is anyway.\n",
        "\n",
        "I'm going to write a simple parser that will work for our purposes; it's just a big regular expression, and probably not very robust."
      ]
    },
    {
      "cell_type": "code",
      "execution_count": 14,
      "metadata": {},
      "outputs": [],
      "source": [
        "import re"
      ]
    },
    {
      "cell_type": "code",
      "execution_count": 33,
      "metadata": {},
      "outputs": [
        {
          "data": {
            "text/plain": [
              "{'ip': '13.66.139.0',\n",
              " 'remote_log_name': '-',\n",
              " 'userid': '-',\n",
              " 'date': '19/Dec/2020:13:57:26',\n",
              " 'timezone': '+0100',\n",
              " 'request_method': 'GET',\n",
              " 'path': '/index.php?option=com_phocagallery&view=category&id=1:almhuette-raith&Itemid=53',\n",
              " 'request_version': ' HTTP/1.1',\n",
              " 'status': '200',\n",
              " 'length': '32653',\n",
              " 'referrer': '-',\n",
              " 'user_agent': 'Mozilla/5.0 (compatible; bingbot/2.0; +http://www.bing.com/bingbot.htm)'}"
            ]
          },
          "execution_count": 33,
          "metadata": {},
          "output_type": "execute_result"
        }
      ],
      "source": [
        "access_log_pattern = re.compile(\n",
        "    r'(?P<ip>.*?) (?P<remote_log_name>.*?) (?P<userid>.*?) \\[(?P<date>.*?)(?= ) (?P<timezone>.*?)\\] '\n",
        "    r'\"(?P<request_method>\\w*) (?P<path>(?:[^\"\\\\]|\\\\.)*?)(?P<request_version> HTTP/.*)?\" '\n",
        "    r'(?P<status>\\d*?) (?P<length>-|\\d*) \"(?P<referrer>(?:[^\"\\\\]|\\\\.)*?)\" \"(?P<user_agent>(?:[^\"\\\\]|\\\\.)*?)\"'\n",
        ")\n",
        "\n",
        "re.match(access_log_pattern, access_records[0]).groupdict()"
      ]
    },
    {
      "cell_type": "markdown",
      "metadata": {},
      "source": [
        "That seems to work on all the lines in the Almhuette log at least. I wouldn't bet money on it working on all Apache logs, but it's good enough for now."
      ]
    },
    {
      "cell_type": "code",
      "execution_count": 34,
      "metadata": {},
      "outputs": [],
      "source": [
        "from collections import defaultdict, Counter"
      ]
    },
    {
      "cell_type": "code",
      "execution_count": 35,
      "metadata": {
        "id": "7GOf6BWh905X"
      },
      "outputs": [
        {
          "name": "stdout",
          "output_type": "stream",
          "text": [
            "ip: 34521\n",
            "remote_log_name: 1\n",
            "userid: 3\n",
            "date: 456915\n",
            "timezone: 2\n",
            "request_method: 16\n",
            "path: 5753269\n",
            "request_version: 2\n",
            "status: 15\n",
            "length: 50562\n",
            "referrer: 2544\n",
            "user_agent: 14472\n"
          ]
        }
      ],
      "source": [
        "field_counts = defaultdict(Counter)\n",
        "\n",
        "for record in access_records:\n",
        "    match = re.match(access_log_pattern, record)\n",
        "    if match:\n",
        "        for field, value in match.groupdict().items():\n",
        "            field_counts[field][value] += 1\n",
        "    else:\n",
        "        print(\"Failed to match record: \", record)\n",
        "        break\n",
        "\n",
        "for field, counts in field_counts.items():\n",
        "    print(f\"{field}: {len(counts)}\")"
      ]
    }
  ],
  "metadata": {
    "colab": {
      "provenance": []
    },
    "kernelspec": {
      "display_name": "Python 3.10.5 64-bit",
      "language": "python",
      "name": "python3"
    },
    "language_info": {
      "codemirror_mode": {
        "name": "ipython",
        "version": 3
      },
      "file_extension": ".py",
      "mimetype": "text/x-python",
      "name": "python",
      "nbconvert_exporter": "python",
      "pygments_lexer": "ipython3",
      "version": "3.10.5"
    },
    "vscode": {
      "interpreter": {
        "hash": "ce43ecaa14461b59d469b4c39cab13a3f6f5f37d5ba1dff85a6f7257caab8952"
      }
    }
  },
  "nbformat": 4,
  "nbformat_minor": 0
}
